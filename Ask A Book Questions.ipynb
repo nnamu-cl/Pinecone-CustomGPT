{
 "cells": [
  {
   "cell_type": "code",
   "execution_count": 12,
   "id": "9d615a77",
   "metadata": {
    "ExecuteTime": {
     "end_time": "2023-11-14T16:47:29.412260400Z",
     "start_time": "2023-11-14T16:47:22.169050Z"
    }
   },
   "outputs": [
    {
     "name": "stdout",
     "output_type": "stream",
     "text": [
      "Collecting tiktoken\n",
      "  Obtaining dependency information for tiktoken from https://files.pythonhosted.org/packages/b8/eb/234646d9eefda8a500d0fd88b05bf625a90ed18054124349db26e558276e/tiktoken-0.5.1-cp311-cp311-win_amd64.whl.metadata\n",
      "  Downloading tiktoken-0.5.1-cp311-cp311-win_amd64.whl.metadata (6.8 kB)\n",
      "Collecting regex>=2022.1.18 (from tiktoken)\n",
      "  Obtaining dependency information for regex>=2022.1.18 from https://files.pythonhosted.org/packages/b8/ad/3398312096118c4e62a5827664e52a04d5068e84d04142dd4a0da8a567ae/regex-2023.10.3-cp311-cp311-win_amd64.whl.metadata\n",
      "  Downloading regex-2023.10.3-cp311-cp311-win_amd64.whl.metadata (41 kB)\n",
      "     ---------------------------------------- 0.0/42.0 kB ? eta -:--:--\n",
      "     --------- ------------------------------ 10.2/42.0 kB ? eta -:--:--\n",
      "     -------------------------------------  41.0/42.0 kB 487.6 kB/s eta 0:00:01\n",
      "     -------------------------------------- 42.0/42.0 kB 406.8 kB/s eta 0:00:00\n",
      "Requirement already satisfied: requests>=2.26.0 in c:\\users\\namus\\miniconda3\\lib\\site-packages (from tiktoken) (2.31.0)\n",
      "Requirement already satisfied: charset-normalizer<4,>=2 in c:\\users\\namus\\miniconda3\\lib\\site-packages (from requests>=2.26.0->tiktoken) (2.0.4)\n",
      "Requirement already satisfied: idna<4,>=2.5 in c:\\users\\namus\\miniconda3\\lib\\site-packages (from requests>=2.26.0->tiktoken) (3.4)\n",
      "Requirement already satisfied: urllib3<3,>=1.21.1 in c:\\users\\namus\\miniconda3\\lib\\site-packages (from requests>=2.26.0->tiktoken) (1.26.16)\n",
      "Requirement already satisfied: certifi>=2017.4.17 in c:\\users\\namus\\miniconda3\\lib\\site-packages (from requests>=2.26.0->tiktoken) (2023.7.22)\n",
      "Downloading tiktoken-0.5.1-cp311-cp311-win_amd64.whl (759 kB)\n",
      "   ---------------------------------------- 0.0/759.8 kB ? eta -:--:--\n",
      "   ---------------------------------------- 0.0/759.8 kB ? eta -:--:--\n",
      "   ----- ---------------------------------- 112.6/759.8 kB ? eta -:--:--\n",
      "   ------- -------------------------------- 143.4/759.8 kB 2.1 MB/s eta 0:00:01\n",
      "   ---------- ----------------------------- 194.6/759.8 kB 2.0 MB/s eta 0:00:01\n",
      "   ----------- ---------------------------- 225.3/759.8 kB 1.5 MB/s eta 0:00:01\n",
      "   -------------- ------------------------- 276.5/759.8 kB 1.4 MB/s eta 0:00:01\n",
      "   -------------- ------------------------- 276.5/759.8 kB 1.4 MB/s eta 0:00:01\n",
      "   ----------------- ---------------------- 337.9/759.8 kB 1.3 MB/s eta 0:00:01\n",
      "   --------------------- ------------------ 399.4/759.8 kB 1.2 MB/s eta 0:00:01\n",
      "   --------------------- ------------------ 409.6/759.8 kB 1.1 MB/s eta 0:00:01\n",
      "   ----------------------- ---------------- 450.6/759.8 kB 1.0 MB/s eta 0:00:01\n",
      "   ----------------------- -------------- 460.8/759.8 kB 960.7 kB/s eta 0:00:01\n",
      "   ------------------------ ------------- 491.5/759.8 kB 904.7 kB/s eta 0:00:01\n",
      "   ------------------------- ------------ 512.0/759.8 kB 891.2 kB/s eta 0:00:01\n",
      "   ------------------------- ------------ 512.0/759.8 kB 891.2 kB/s eta 0:00:01\n",
      "   ---------------------------- --------- 563.2/759.8 kB 822.9 kB/s eta 0:00:01\n",
      "   ---------------------------- --------- 573.4/759.8 kB 800.0 kB/s eta 0:00:01\n",
      "   ----------------------------- -------- 593.9/759.8 kB 762.0 kB/s eta 0:00:01\n",
      "   ------------------------------ ------- 614.4/759.8 kB 743.1 kB/s eta 0:00:01\n",
      "   ------------------------------- ------ 624.6/759.8 kB 728.0 kB/s eta 0:00:01\n",
      "   -------------------------------- ----- 645.1/759.8 kB 712.5 kB/s eta 0:00:01\n",
      "   -------------------------------- ----- 655.4/759.8 kB 699.7 kB/s eta 0:00:01\n",
      "   --------------------------------- ---- 675.8/759.8 kB 697.7 kB/s eta 0:00:01\n",
      "   ---------------------------------- --- 696.3/759.8 kB 675.3 kB/s eta 0:00:01\n",
      "   ------------------------------------ - 727.0/759.8 kB 664.3 kB/s eta 0:00:01\n",
      "   ------------------------------------ - 737.3/759.8 kB 646.3 kB/s eta 0:00:01\n",
      "   -------------------------------------- 759.8/759.8 kB 647.9 kB/s eta 0:00:00\n",
      "Downloading regex-2023.10.3-cp311-cp311-win_amd64.whl (269 kB)\n",
      "   ---------------------------------------- 0.0/269.6 kB ? eta -:--:--\n",
      "   - -------------------------------------- 10.2/269.6 kB ? eta -:--:--\n",
      "   ---- ---------------------------------- 30.7/269.6 kB 435.7 kB/s eta 0:00:01\n",
      "   -------- ------------------------------ 61.4/269.6 kB 409.6 kB/s eta 0:00:01\n",
      "   ---------- ---------------------------- 71.7/269.6 kB 435.7 kB/s eta 0:00:01\n",
      "   ------------- ------------------------- 92.2/269.6 kB 435.7 kB/s eta 0:00:01\n",
      "   ----------------- -------------------- 122.9/269.6 kB 450.6 kB/s eta 0:00:01\n",
      "   -------------------- ----------------- 143.4/269.6 kB 448.2 kB/s eta 0:00:01\n",
      "   --------------------- ---------------- 153.6/269.6 kB 435.7 kB/s eta 0:00:01\n",
      "   ------------------------- ------------ 184.3/269.6 kB 445.2 kB/s eta 0:00:01\n",
      "   ---------------------------- --------- 204.8/269.6 kB 461.0 kB/s eta 0:00:01\n",
      "   ------------------------------- ------ 225.3/269.6 kB 458.5 kB/s eta 0:00:01\n",
      "   ------------------------------- ------ 225.3/269.6 kB 458.5 kB/s eta 0:00:01\n",
      "   -------------------------------------- 269.6/269.6 kB 474.1 kB/s eta 0:00:00\n",
      "Installing collected packages: regex, tiktoken\n",
      "Successfully installed regex-2023.10.3 tiktoken-0.5.1\n"
     ]
    },
    {
     "name": "stderr",
     "output_type": "stream",
     "text": [
      "\n",
      "[notice] A new release of pip is available: 23.2.1 -> 23.3.1\n",
      "[notice] To update, run: python.exe -m pip install --upgrade pip\n"
     ]
    }
   ],
   "source": [
    "# pip install langchain --upgrade\n",
    "# Version: 0.0.164\n",
    "\n",
    "!pip3 install tiktoken"
   ]
  },
  {
   "cell_type": "code",
   "execution_count": 2,
   "id": "2d3e92ed",
   "metadata": {
    "ExecuteTime": {
     "end_time": "2023-11-14T16:46:26.095447600Z",
     "start_time": "2023-11-14T16:46:25.479497800Z"
    }
   },
   "outputs": [
    {
     "data": {
      "text/plain": "False"
     },
     "execution_count": 2,
     "metadata": {},
     "output_type": "execute_result"
    }
   ],
   "source": [
    "# PDF Loaders. If unstructured gives you a hard time, try PyPDFLoader\n",
    "from langchain.document_loaders import UnstructuredPDFLoader, OnlinePDFLoader, PyPDFLoader\n",
    "\n",
    "from langchain.text_splitter import RecursiveCharacterTextSplitter\n",
    "import os\n",
    "from dotenv import load_dotenv\n",
    "\n",
    "load_dotenv()"
   ]
  },
  {
   "cell_type": "markdown",
   "id": "5166d759",
   "metadata": {},
   "source": [
    "### Load your data"
   ]
  },
  {
   "cell_type": "code",
   "execution_count": 3,
   "id": "b4a2d6bf",
   "metadata": {
    "ExecuteTime": {
     "end_time": "2023-11-14T16:46:29.436812700Z",
     "start_time": "2023-11-14T16:46:29.386518200Z"
    }
   },
   "outputs": [],
   "source": [
    "loader = PyPDFLoader(\"field-guide-to-data-science.pdf\")\n",
    "\n",
    "## Other options for loaders \n",
    "# loader = UnstructuredPDFLoader(\"../data/field-guide-to-data-science.pdf\")\n",
    "# loader = OnlinePDFLoader(\"https://wolfpaulus.com/wp-content/uploads/2017/05/field-guide-to-data-science.pdf\")"
   ]
  },
  {
   "cell_type": "code",
   "execution_count": 4,
   "id": "bcdac23c",
   "metadata": {
    "ExecuteTime": {
     "end_time": "2023-11-14T16:46:33.128547Z",
     "start_time": "2023-11-14T16:46:29.896706600Z"
    }
   },
   "outputs": [],
   "source": [
    "data = loader.load()"
   ]
  },
  {
   "cell_type": "code",
   "execution_count": 5,
   "id": "b4fd7c9e",
   "metadata": {
    "ExecuteTime": {
     "end_time": "2023-11-14T16:46:33.138694600Z",
     "start_time": "2023-11-14T16:46:33.131717Z"
    }
   },
   "outputs": [
    {
     "name": "stdout",
     "output_type": "stream",
     "text": [
      "You have 126 document(s) in your data\n",
      "There are 2812 characters in your document\n"
     ]
    }
   ],
   "source": [
    "# Note: If you're using PyPDFLoader then it will split by page for you already\n",
    "print (f'You have {len(data)} document(s) in your data')\n",
    "print (f'There are {len(data[30].page_content)} characters in your document')"
   ]
  },
  {
   "cell_type": "markdown",
   "id": "8af9b604",
   "metadata": {},
   "source": [
    "### Chunk your data up into smaller documents"
   ]
  },
  {
   "cell_type": "code",
   "execution_count": 6,
   "id": "fb3c6f02",
   "metadata": {
    "ExecuteTime": {
     "end_time": "2023-11-14T16:46:35.849857100Z",
     "start_time": "2023-11-14T16:46:35.817714700Z"
    }
   },
   "outputs": [],
   "source": [
    "# Note: If you're using PyPDFLoader then we'll be splitting for the 2nd time.\n",
    "# This is optional, test out on your own data.\n",
    "\n",
    "text_splitter = RecursiveCharacterTextSplitter(chunk_size=1000, chunk_overlap=0)\n",
    "texts = text_splitter.split_documents(data)"
   ]
  },
  {
   "cell_type": "code",
   "execution_count": 7,
   "id": "879873a4",
   "metadata": {
    "ExecuteTime": {
     "end_time": "2023-11-14T16:46:36.543885600Z",
     "start_time": "2023-11-14T16:46:36.511754100Z"
    }
   },
   "outputs": [
    {
     "name": "stdout",
     "output_type": "stream",
     "text": [
      "Now you have 258 documents\n"
     ]
    }
   ],
   "source": [
    "print (f'Now you have {len(texts)} documents')"
   ]
  },
  {
   "cell_type": "markdown",
   "id": "838b2843",
   "metadata": {},
   "source": [
    "### Create embeddings of your documents to get ready for semantic search"
   ]
  },
  {
   "cell_type": "code",
   "execution_count": 8,
   "id": "373e695a",
   "metadata": {
    "ExecuteTime": {
     "end_time": "2023-11-14T16:46:43.317482400Z",
     "start_time": "2023-11-14T16:46:38.792711500Z"
    }
   },
   "outputs": [
    {
     "name": "stderr",
     "output_type": "stream",
     "text": [
      "C:\\Users\\namus\\miniconda3\\Lib\\site-packages\\pinecone\\index.py:4: TqdmExperimentalWarning: Using `tqdm.autonotebook.tqdm` in notebook mode. Use `tqdm.tqdm` instead to force console mode (e.g. in jupyter console)\n",
      "  from tqdm.autonotebook import tqdm\n"
     ]
    }
   ],
   "source": [
    "from langchain.vectorstores import Chroma, Pinecone\n",
    "from langchain.embeddings.openai import OpenAIEmbeddings\n",
    "import pinecone"
   ]
  },
  {
   "cell_type": "markdown",
   "id": "884e7857",
   "metadata": {},
   "source": [
    "Check to see if there is an environment variable with you API keys, if not, use what you put below"
   ]
  },
  {
   "cell_type": "code",
   "execution_count": 9,
   "id": "42a1d5c3",
   "metadata": {
    "hide_input": false,
    "ExecuteTime": {
     "end_time": "2023-11-14T16:46:48.236297800Z",
     "start_time": "2023-11-14T16:46:48.233303300Z"
    }
   },
   "outputs": [],
   "source": [
    "OPENAI_API_KEY = os.getenv('OPENAI_API_KEY', 'YOUR API KEY GOES HERE')"
   ]
  },
  {
   "cell_type": "code",
   "execution_count": 10,
   "id": "b4619d3a",
   "metadata": {
    "ExecuteTime": {
     "end_time": "2023-11-14T16:46:49.512765100Z",
     "start_time": "2023-11-14T16:46:48.751472600Z"
    }
   },
   "outputs": [],
   "source": [
    "embeddings = OpenAIEmbeddings(openai_api_key=OPENAI_API_KEY)"
   ]
  },
  {
   "cell_type": "markdown",
   "id": "b73d8504",
   "metadata": {},
   "source": [
    "### Option #1: Pinecone\n",
    "If you want to use pinecone, run the code below, if not then skip over to Chroma below it. You must go to [Pinecone.io](https://www.pinecone.io/) and set up an account"
   ]
  },
  {
   "cell_type": "code",
   "execution_count": 13,
   "id": "0e093ef3",
   "metadata": {
    "hide_input": false,
    "ExecuteTime": {
     "end_time": "2023-11-14T16:48:18.170621900Z",
     "start_time": "2023-11-14T16:47:43.111462900Z"
    }
   },
   "outputs": [],
   "source": [
    "PINECONE_API_KEY = os.getenv('PINECONE_API_KEY', 'YOUR API KEY GOES HERE')\n",
    "PINECONE_API_ENV = os.getenv('PINECONE_API_ENV', 'YOUR ENV GOES HERE') # You may need to switch with your env\n",
    "\n",
    "# initialize pinecone\n",
    "pinecone.init(\n",
    "    api_key=PINECONE_API_KEY,  # find at app.pinecone.io\n",
    "    environment=PINECONE_API_ENV  # next to api key in console\n",
    ")\n",
    "index_name = \"YOUR index GOES HERE\" # put in the name of your pinecone index here\n",
    "\n",
    "docsearch = Pinecone.from_texts([t.page_content for t in texts], embeddings, index_name=index_name)"
   ]
  },
  {
   "cell_type": "markdown",
   "id": "3c35dcd9",
   "metadata": {},
   "source": [
    "### Query those docs to get your answer back"
   ]
  },
  {
   "cell_type": "code",
   "execution_count": 14,
   "id": "f051337b",
   "metadata": {
    "ExecuteTime": {
     "end_time": "2023-11-14T16:52:19.386606Z",
     "start_time": "2023-11-14T16:52:18.809108800Z"
    }
   },
   "outputs": [],
   "source": [
    "from langchain.llms import OpenAI\n",
    "from langchain.chains.question_answering import load_qa_chain"
   ]
  },
  {
   "cell_type": "code",
   "execution_count": 15,
   "id": "6b9b1c03",
   "metadata": {
    "ExecuteTime": {
     "end_time": "2023-11-14T16:52:25.650104800Z",
     "start_time": "2023-11-14T16:52:25.181790200Z"
    }
   },
   "outputs": [],
   "source": [
    "llm = OpenAI(temperature=0, openai_api_key=OPENAI_API_KEY)\n",
    "chain = load_qa_chain(llm, chain_type=\"stuff\")"
   ]
  },
  {
   "cell_type": "code",
   "execution_count": 18,
   "id": "f67ea7c2",
   "metadata": {
    "ExecuteTime": {
     "end_time": "2023-11-14T16:52:49.110066700Z",
     "start_time": "2023-11-14T16:52:48.255662100Z"
    }
   },
   "outputs": [],
   "source": [
    "query = \"How long does it take to learn data science?\"\n",
    "docs = docsearch.similarity_search(query)"
   ]
  },
  {
   "cell_type": "code",
   "execution_count": 19,
   "id": "3dfd2b7d",
   "metadata": {
    "ExecuteTime": {
     "end_time": "2023-11-14T16:52:51.690691700Z",
     "start_time": "2023-11-14T16:52:49.908467200Z"
    }
   },
   "outputs": [
    {
     "data": {
      "text/plain": "' It depends on the individual and the level of mastery they are trying to achieve. Data science requires a significant investment of time across a variety of tasks, and multiple techniques are often applied before one yields interesting results.'"
     },
     "execution_count": 19,
     "metadata": {},
     "output_type": "execute_result"
    }
   ],
   "source": [
    "chain.run(input_documents=docs, question=query)"
   ]
  },
  {
   "cell_type": "code",
   "execution_count": null,
   "outputs": [],
   "source": [],
   "metadata": {
    "collapsed": false
   },
   "id": "96f3e03c37de9bc5"
  }
 ],
 "metadata": {
  "kernelspec": {
   "display_name": "Python 3 (ipykernel)",
   "language": "python",
   "name": "python3"
  },
  "language_info": {
   "codemirror_mode": {
    "name": "ipython",
    "version": 3
   },
   "file_extension": ".py",
   "mimetype": "text/x-python",
   "name": "python",
   "nbconvert_exporter": "python",
   "pygments_lexer": "ipython3",
   "version": "3.11.4"
  }
 },
 "nbformat": 4,
 "nbformat_minor": 5
}
